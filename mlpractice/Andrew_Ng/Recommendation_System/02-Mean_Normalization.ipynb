{
 "cells": [
  {
   "cell_type": "markdown",
   "id": "fcfc9699-c715-4610-a89f-544083970465",
   "metadata": {},
   "source": [
    "# Mean Normalization\n",
    "- For instance, assume a new user to the system with who have rated very few movies or no movie at all.\n",
    "- See the table below where a new user 'Linda' have no ratings for any movie."
   ]
  },
  {
   "cell_type": "code",
   "execution_count": 2,
   "id": "2d9a1ea4-12ad-4e28-9d43-a8b2cb6a6bf7",
   "metadata": {},
   "outputs": [],
   "source": [
    "import pandas as pd\n",
    "import numpy as np"
   ]
  },
  {
   "cell_type": "code",
   "execution_count": 3,
   "id": "f9594bcd-b768-457c-a672-a389d58bf434",
   "metadata": {},
   "outputs": [
    {
     "data": {
      "text/html": [
       "<div>\n",
       "<style scoped>\n",
       "    .dataframe tbody tr th:only-of-type {\n",
       "        vertical-align: middle;\n",
       "    }\n",
       "\n",
       "    .dataframe tbody tr th {\n",
       "        vertical-align: top;\n",
       "    }\n",
       "\n",
       "    .dataframe thead th {\n",
       "        text-align: right;\n",
       "    }\n",
       "</style>\n",
       "<table border=\"1\" class=\"dataframe\">\n",
       "  <thead>\n",
       "    <tr style=\"text-align: right;\">\n",
       "      <th></th>\n",
       "      <th>Peter</th>\n",
       "      <th>Sam</th>\n",
       "      <th>Alex</th>\n",
       "      <th>Linda</th>\n",
       "      <th>(Action)x_1</th>\n",
       "      <th>(Romance)X2</th>\n",
       "    </tr>\n",
       "  </thead>\n",
       "  <tbody>\n",
       "    <tr>\n",
       "      <th>A</th>\n",
       "      <td>5</td>\n",
       "      <td>5</td>\n",
       "      <td>0</td>\n",
       "      <td>?</td>\n",
       "      <td>1.0</td>\n",
       "      <td>0.6</td>\n",
       "    </tr>\n",
       "    <tr>\n",
       "      <th>B</th>\n",
       "      <td>4</td>\n",
       "      <td>5</td>\n",
       "      <td>?</td>\n",
       "      <td>?</td>\n",
       "      <td>0.1</td>\n",
       "      <td>0.8</td>\n",
       "    </tr>\n",
       "    <tr>\n",
       "      <th>C</th>\n",
       "      <td>?</td>\n",
       "      <td>3</td>\n",
       "      <td>4</td>\n",
       "      <td>?</td>\n",
       "      <td>0.2</td>\n",
       "      <td>0.0</td>\n",
       "    </tr>\n",
       "    <tr>\n",
       "      <th>D</th>\n",
       "      <td>5</td>\n",
       "      <td>3</td>\n",
       "      <td>4</td>\n",
       "      <td>?</td>\n",
       "      <td>1.0</td>\n",
       "      <td>0.0</td>\n",
       "    </tr>\n",
       "  </tbody>\n",
       "</table>\n",
       "</div>"
      ],
      "text/plain": [
       "  Peter  Sam Alex Linda  (Action)x_1  (Romance)X2\n",
       "A     5    5    0     ?          1.0          0.6\n",
       "B     4    5    ?     ?          0.1          0.8\n",
       "C     ?    3    4     ?          0.2          0.0\n",
       "D     5    3    4     ?          1.0          0.0"
      ]
     },
     "execution_count": 3,
     "metadata": {},
     "output_type": "execute_result"
    }
   ],
   "source": [
    "df = pd.DataFrame(index = ['A', 'B', 'C', 'D'], \n",
    "             columns = ['Peter', 'Sam', 'Alex', 'Linda', '(Action)x_1', '(Romance)X2'],\n",
    "             data = [[5, 5, 0, '?', 1, 0.6], \n",
    "                     [4, 5, '?', '?', 0.1, 0.8], \n",
    "                     ['?', 3, 4,'?' , 0.2, 0], \n",
    "                     [5, 3, 4, '?', 1, 0]]\n",
    "            )\n",
    "df"
   ]
  },
  {
   "cell_type": "markdown",
   "id": "fc24db89-3875-4fc1-ab62-21aeb3d88d4c",
   "metadata": {},
   "source": [
    "- In the table above, there no such case $r(i,j) = 1$ for Linda. Hence, the regularization term of w parameter in the cost function results in vector of zeros\n",
    "- if $ w^{(4)} = \\begin{bmatrix} 0 \\\\ 0 \\end{bmatrix} , b^{(4)} = 0$\n",
    "- $ w^{(4)} . x^{(i)} + b^{(5)}$ will predict the rating for all movies to be zero for the user Linda\n",
    "- This is very inefficient approach to implement any recommending algorithm\n",
    "- As a solution to this we use mean Normalization"
   ]
  },
  {
   "cell_type": "markdown",
   "id": "f7dbabb4-91d6-4358-87ca-a82bc4e645ea",
   "metadata": {},
   "source": [
    "### Approach\n",
    "#### Normalizing rows\n",
    "- Given the ratings of all movies as in the matrix below:\n",
    "$$R = \\begin{bmatrix}5\\quad 5\\quad 0\\quad ? \\\\ 4\\quad 5\\quad ?\\quad ? \\\\ ?\\quad 3\\quad 4\\quad ? \\\\ 5\\quad 3\\quad 4\\quad ?  \\end{bmatrix} $$\n",
    "\n",
    "- From the each row of matrix calculating average:\n",
    "$$\\mu = \\begin{bmatrix} 3.33 \\\\ 4.5 \\\\ 3.5 \\\\ 4 \\end{bmatrix} $$\n",
    "\n",
    "$$ R - \\mu = \n",
    "\\begin{bmatrix}\n",
    "1.67 & 1.67 & -3.33 & ? \\\\\n",
    "-0.5 & 0.5  & ?    & ? \\\\ \n",
    "? & -0.5 & 0.5  & ? \\\\ \n",
    "1 & -1   & 0   & ? \n",
    "\\end{bmatrix}   $$\n",
    "\n",
    "- From the matrix above, the rating for any movie $i$ by any user $j$ is given by equation:\n",
    "$$ w^{(j)}.x^{(i)} + b^{(j)} + \\mu_i$$\n",
    "\n",
    "- Since $r(i,j) = 0 $ for Linda, the regularization term for parameter $w$ will have vector of zeros. By the above equation the $\\mu$ will be the probable ratings generated by collaborative filtering for new user Linda"
   ]
  },
  {
   "cell_type": "markdown",
   "id": "996da642-0c83-416f-81b4-1baab56bd1b9",
   "metadata": {},
   "source": [
    "# Find Related Item\n",
    "- To find item $k$ with features $x^{(k)}$ that is silimar to $i^{th}$ item with features $x^{(i)}$ (i.e with smallest distance)\n",
    "$$ \\sum_{l=1}^n \\left(x_l^{(k)} - x_l^{(i)}\\right)^2 $$\n"
   ]
  },
  {
   "cell_type": "code",
   "execution_count": null,
   "id": "3dd82844-18f4-4161-a489-2fcaafe6b307",
   "metadata": {},
   "outputs": [],
   "source": []
  }
 ],
 "metadata": {
  "kernelspec": {
   "display_name": "Python 3 (ipykernel)",
   "language": "python",
   "name": "python3"
  },
  "language_info": {
   "codemirror_mode": {
    "name": "ipython",
    "version": 3
   },
   "file_extension": ".py",
   "mimetype": "text/x-python",
   "name": "python",
   "nbconvert_exporter": "python",
   "pygments_lexer": "ipython3",
   "version": "3.10.12"
  }
 },
 "nbformat": 4,
 "nbformat_minor": 5
}
