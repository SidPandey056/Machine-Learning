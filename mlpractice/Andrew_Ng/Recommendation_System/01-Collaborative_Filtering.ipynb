{
 "cells": [
  {
   "cell_type": "markdown",
   "id": "655982ef-df6e-478a-8c86-de6a1bd73f5b",
   "metadata": {},
   "source": [
    "# Recommendation System"
   ]
  },
  {
   "cell_type": "code",
   "execution_count": 6,
   "id": "2b1e8fad-4624-44c5-acb1-5de9a84caf4c",
   "metadata": {},
   "outputs": [],
   "source": [
    "import pandas as pd\n",
    "import numpy as np"
   ]
  },
  {
   "cell_type": "code",
   "execution_count": 17,
   "id": "22281fb0-bd0a-4e5c-9e0a-e7327cf05985",
   "metadata": {},
   "outputs": [
    {
     "data": {
      "text/html": [
       "<div>\n",
       "<style scoped>\n",
       "    .dataframe tbody tr th:only-of-type {\n",
       "        vertical-align: middle;\n",
       "    }\n",
       "\n",
       "    .dataframe tbody tr th {\n",
       "        vertical-align: top;\n",
       "    }\n",
       "\n",
       "    .dataframe thead th {\n",
       "        text-align: right;\n",
       "    }\n",
       "</style>\n",
       "<table border=\"1\" class=\"dataframe\">\n",
       "  <thead>\n",
       "    <tr style=\"text-align: right;\">\n",
       "      <th></th>\n",
       "      <th>Peter</th>\n",
       "      <th>Sam</th>\n",
       "      <th>Alex</th>\n",
       "      <th>(Action)x_1</th>\n",
       "      <th>(Romance)X2</th>\n",
       "    </tr>\n",
       "  </thead>\n",
       "  <tbody>\n",
       "    <tr>\n",
       "      <th>A</th>\n",
       "      <td>5.0</td>\n",
       "      <td>5</td>\n",
       "      <td>0.0</td>\n",
       "      <td>1.0</td>\n",
       "      <td>0.6</td>\n",
       "    </tr>\n",
       "    <tr>\n",
       "      <th>B</th>\n",
       "      <td>4.0</td>\n",
       "      <td>5</td>\n",
       "      <td>NaN</td>\n",
       "      <td>0.1</td>\n",
       "      <td>0.8</td>\n",
       "    </tr>\n",
       "    <tr>\n",
       "      <th>C</th>\n",
       "      <td>NaN</td>\n",
       "      <td>3</td>\n",
       "      <td>4.0</td>\n",
       "      <td>0.2</td>\n",
       "      <td>0.0</td>\n",
       "    </tr>\n",
       "    <tr>\n",
       "      <th>D</th>\n",
       "      <td>5.0</td>\n",
       "      <td>3</td>\n",
       "      <td>4.0</td>\n",
       "      <td>1.0</td>\n",
       "      <td>0.0</td>\n",
       "    </tr>\n",
       "  </tbody>\n",
       "</table>\n",
       "</div>"
      ],
      "text/plain": [
       "   Peter  Sam  Alex  (Action)x_1  (Romance)X2\n",
       "A    5.0    5   0.0          1.0          0.6\n",
       "B    4.0    5   NaN          0.1          0.8\n",
       "C    NaN    3   4.0          0.2          0.0\n",
       "D    5.0    3   4.0          1.0          0.0"
      ]
     },
     "execution_count": 17,
     "metadata": {},
     "output_type": "execute_result"
    }
   ],
   "source": [
    "df = pd.DataFrame(index = ['A', 'B', 'C', 'D'], \n",
    "             columns = ['Peter', 'Sam', 'Alex', '(Action)x_1', '(Romance)X2'],\n",
    "             data = [[5, 5, 0, 1, 0.6], [4, 5, np.nan, 0.1, 0.8], [np.nan, 3, 4, 0.2, 0], [5, 3, 4, 1, 0]]\n",
    "            )\n",
    "df"
   ]
  },
  {
   "cell_type": "markdown",
   "id": "e30d3c32-2093-4212-af9f-2601eeda0449",
   "metadata": {},
   "source": [
    "- In the table above, x_1 and x_2 are features of the movies, while other columns are different users\n",
    "- $j$ refers the the users(Peter, Sam, Alex, ....) where as $i$ refers to movies (A,B,C,D....)\n",
    "- $r(i,j) = 1$ if user $j$ have rated movie $i$ else $r(i,j) = 0$, here $NaN$s are $0$ others are 1\n",
    "- $m^{(j)}$ is the no. of movies rated by user $j$; For example; $m^1 = 3$, movies rated by Peter\n",
    "- $w^{(j)}$ and $b^{(j)}$ are the parameters for user $j$\n",
    "- $x^{(i)}$ is the feature vector of $i^{th}$ movie; For example; $x^{(1)} = \\begin{bmatrix} 1\\\\ 0.6 \\end{bmatrix}$\n",
    "- $y^{(i,j)}$ is the rating of $i^{th}$ movie by $j^{th}$ user\n",
    "\n",
    "For prediction: of $i^{th}$ movie by $j^{th}$ user is: $w^{(j)} . x^{(i)} + b^{(j)}$"
   ]
  },
  {
   "cell_type": "markdown",
   "id": "3d8864ab-5267-43d2-a7d1-1fe0f3df6e4e",
   "metadata": {},
   "source": [
    "#### Cost function:\n",
    "- The cost function to learn parameters $w^{(j)}$ and $b^{(j)}$ is given as:\n",
    "$$J(w^{(j)}, b^{(j)}) = \\frac{1}{2m^{(j)}} \\sum_{i:r(i,j) = 1}\\left(w^{(j)} . x^{(i)} + b^{(j)} - y^{(i,j)}\\right)^2  + \\frac{\\lambda}{2m^{(j)}} \\sum_{k=1}^{n} \\left( w_k^{(j)} \\right)^2$$\n",
    "- Since, $m^{(j)}$ is constant it can be omitted without affecting parameters\n",
    "$$J(w^{(j)}, b^{(j)}) = \\frac{1}{2} \\sum_{i:r(i,j) = 1}\\left(w^{(j)} . x^{(i)} + b^{(j)} - y^{(i,j)}\\right)^2  + \\frac{\\lambda}{2} \\sum_{k=1}^{n} \\left( w_k^{(j)} \\right)^2$$\n",
    "\n",
    "- Now, generalizing the formula to learn all the parameters $w^{(1)} b^{(1)}, w^{(2)} b^{(2)}, \\cdots , w^{(n_u)} b^{(n_u)}$ for all the users is given as:\n",
    "\n",
    "$$J \\left(w^{(1)},w^{(2)}, \\cdots , w^{(n_u)}, b^{(1)}, b^{(2)}, \\cdots , b^{(n_u)} \\right) = \\frac{1}{2} \\sum_{j=1}^{n_u} \\sum_{i:r(i,j) = 1}\\left(w^{(j)} . x^{(i)} + b^{(j)} - y^{(i,j)}\\right)^2  + \\frac{\\lambda}{2} \\sum_{j=1}^{n_u} \\sum_{k=1}^{n} \\left( w_k^{(j)} \\right)^2$$\n"
   ]
  },
  {
   "cell_type": "markdown",
   "id": "a29af241-0e23-4b89-8bbd-e22ad9af55db",
   "metadata": {},
   "source": [
    "#### Cost function for features\n",
    "- When the parameters are known and the features are unknown, we can actually predict the features in collaborative filtering\n",
    "- Suppose, we have to predict feature vector for movie $i$, i.e $x^{(i)}$ is to be found"
   ]
  },
  {
   "cell_type": "code",
   "execution_count": 21,
   "id": "815beb93-ffd7-4f39-b1f3-ae87858d7794",
   "metadata": {},
   "outputs": [
    {
     "data": {
      "text/html": [
       "<div>\n",
       "<style scoped>\n",
       "    .dataframe tbody tr th:only-of-type {\n",
       "        vertical-align: middle;\n",
       "    }\n",
       "\n",
       "    .dataframe tbody tr th {\n",
       "        vertical-align: top;\n",
       "    }\n",
       "\n",
       "    .dataframe thead th {\n",
       "        text-align: right;\n",
       "    }\n",
       "</style>\n",
       "<table border=\"1\" class=\"dataframe\">\n",
       "  <thead>\n",
       "    <tr style=\"text-align: right;\">\n",
       "      <th></th>\n",
       "      <th>Peter</th>\n",
       "      <th>Sam</th>\n",
       "      <th>Alex</th>\n",
       "      <th>(Action)x_1</th>\n",
       "      <th>(Romance)X2</th>\n",
       "    </tr>\n",
       "  </thead>\n",
       "  <tbody>\n",
       "    <tr>\n",
       "      <th>A</th>\n",
       "      <td>5</td>\n",
       "      <td>5</td>\n",
       "      <td>0</td>\n",
       "      <td>?</td>\n",
       "      <td>?</td>\n",
       "    </tr>\n",
       "    <tr>\n",
       "      <th>B</th>\n",
       "      <td>4</td>\n",
       "      <td>5</td>\n",
       "      <td>?</td>\n",
       "      <td>?</td>\n",
       "      <td>?</td>\n",
       "    </tr>\n",
       "    <tr>\n",
       "      <th>C</th>\n",
       "      <td>?</td>\n",
       "      <td>3</td>\n",
       "      <td>4</td>\n",
       "      <td>?</td>\n",
       "      <td>?</td>\n",
       "    </tr>\n",
       "    <tr>\n",
       "      <th>D</th>\n",
       "      <td>5</td>\n",
       "      <td>3</td>\n",
       "      <td>4</td>\n",
       "      <td>?</td>\n",
       "      <td>?</td>\n",
       "    </tr>\n",
       "  </tbody>\n",
       "</table>\n",
       "</div>"
      ],
      "text/plain": [
       "  Peter  Sam Alex (Action)x_1 (Romance)X2\n",
       "A     5    5    0           ?           ?\n",
       "B     4    5    ?           ?           ?\n",
       "C     ?    3    4           ?           ?\n",
       "D     5    3    4           ?           ?"
      ]
     },
     "execution_count": 21,
     "metadata": {},
     "output_type": "execute_result"
    }
   ],
   "source": [
    "pd.DataFrame(index = ['A', 'B', 'C', 'D'], \n",
    "             columns = ['Peter', 'Sam', 'Alex', '(Action)x_1', '(Romance)X2'],\n",
    "             data = [[5, 5, 0, '?', '?'], [4, 5, '?', '?', '?'], ['?', 3, 4, '?', '?'], [5, 3, 4, '?', '?']]\n",
    "            )"
   ]
  },
  {
   "cell_type": "markdown",
   "id": "e766e65f-f10c-4fec-b5e7-93f0a29419aa",
   "metadata": {},
   "source": [
    "- Let, the parameters of movie A for all the users are given as:\n",
    "$$w^{(1)} =\\begin{bmatrix} 5 \\\\ 0 \\end{bmatrix}, \\ w^{(2)} =\\begin{bmatrix} 5 \\\\ 0 \\end{bmatrix}, \\ w^{(3)} =\\begin{bmatrix} 0 \\\\ 5 \\end{bmatrix}$$\n",
    "\n",
    "$$ b^{(1)} = 0, \\ b^{(2)} = 0, \\ b^{(3)} = 0 $$\n",
    "\n",
    "- The feature vector from collaborative filtering can be predicted using :\n",
    "$$ w^{(j)}.x^{(i)} + b^{(j)} $$\n",
    "- Since $b^{(j)} = 0$, neglect it.\n",
    "$$w^{(1)}.x^{(1)} \\approx 5 $$\n",
    "$$w^{(2)}.x^{(1)} \\approx 5 $$\n",
    "$$w^{(3)}.x^{(1)} \\approx 0 $$\n",
    "$$Substituting\\ values\\ of\\ w^{(j)}s\\ we\\ get\\ \\\\ x= \\begin{bmatrix} 1 \\\\ 0 \\end{bmatrix} $$\n",
    "- This way we preidcted x_1 and x_2 of movie A to be 1 and 0 respectively\n",
    "\n",
    "- Given the parameters, $w^{(1)} b^{(1)}, w^{(2)} b^{(2)}, \\cdots , w^{(n_u)} b^{(n_u)}$, the cost function to learn the features of $x^{(i)}$ is given as:\n",
    "$$ J(x^{(i)}) = \\frac{1}{2} \\sum_{j:r(i,j) = 1}\\left(w^{(j)} . x^{(i)} + b^{(j)} - y^{(i,j)}\\right)^2  + \\frac{\\lambda}{2} \\sum_{k=1}^{n} \\left( x_k^{(j)} \\right)^2$$\n",
    "\n",
    "- To learn the featues of all movies, $x^{(1)}, x^{(2)}, \\cdots ,x^{(n_m)}$ the cost function is given as:\n",
    "$$ J(x^{(i)}) = \\frac{1}{2} \\sum_{i=1}^{n_m} \\sum_{j:r(i,j) = 1}\\left(w^{(j)} . x^{(i)} + b^{(j)} - y^{(i,j)}\\right)^2  + \\frac{\\lambda}{2} \\sum_{i=1}^{n_m} \\sum_{k=1}^{n} \\left( x_k^{(j)} \\right)^2$$"
   ]
  },
  {
   "cell_type": "markdown",
   "id": "501e6ed6-51b4-4cf8-9ce1-59c986827e4a",
   "metadata": {},
   "source": [
    "# Collaborative Filtering\n",
    "- For collaborative filtering, when the parameters and the featues are not known, can actually learn the parameters as well as featues by combining the cost function of parameters and the featues\n",
    "- It is given as:\n",
    "$$ J(w,b,x) = \\frac{1}{2} \\sum_{(i,j):r(i,j) = 1}\\left(w^{(j)} . x^{(i)} + b^{(j)} - y^{(i,j)}\\right)^2  + \\frac{1}{2} \\sum_{j=1}^{n_u} \\sum_{k=1}^n \\left(w_k^{(j)} \\right)^2 + \\frac{\\lambda}{2} \\sum_{i=1}^{n_m} \\sum_{j=1}^{n} \\left( x_k^{(j)} \\right)^2$$\n",
    "\n",
    "- where; $w,\\ b$ and $x$ are given as\n",
    "- $w^{(1)} , w^{(2)} , \\cdots , w^{(n_u)} $\n",
    "- $b^{(1)},b^{(2)}, \\cdots, b^{(n_u)} $\n",
    "- and $x^{(1)}, x^{(2)}, \\cdots ,x^{(n_m)}$\n",
    "\n",
    "- Now, we can apply gradient descent by repeating following simultaneously until convergence\n",
    "$$ w_i^{(j)} =w_i^{(j)} - \\alpha \\frac{\\partial J(w,b,x)} {\\partial w_i^{(j)}} $$\n",
    "$$ b^{(j)} =b^{(j)} - \\alpha \\frac{\\partial J(w,b,x)} {\\partial b^{(j)}} $$\n",
    "$$ x_k^{(i)} =x_k^{(i)} - \\alpha \\frac{\\partial J(w,b,x)} {\\partial x_k^{(i)}} $$\n",
    "\n",
    "> The intuition behind collaborative filtering is that, multiple users have collaboratively rated for a movie which allows us to guess appropriate features of movies and the parameters to predict user's rating "
   ]
  },
  {
   "cell_type": "markdown",
   "id": "1560955d-a1b9-4f9e-a4dd-18fa739c4d23",
   "metadata": {},
   "source": [
    "### Binary labels:\n",
    "- Binary labels (class 0 and 1) can be assigned to the interaction of a user with the system,\n",
    "- For example: Is user interested in the ad?\n",
    "- did user interacted with the video?\n",
    "- Did user spent x time within the product reviews?\n",
    "\n",
    "- For binary classification, the linear term $ w^{(j)}.x^{(i)} + b^{(j)} $ is passed to a sigmoid function $g(z)$\n",
    "\n",
    "$$g(z) = \\frac{1}{1+e^{-z}}$$\n",
    "\n",
    "- where, $ z = w^{(j)}.x^{(i)} + b^{(j)} $\n",
    "\n",
    "- From the cost function used in collaborative filtering to learn continuous value (i.e ratings of movie)\n",
    "$$z = f_{(w,b,x)}(x) = w^{(j)}.x^{(i)} + b^{(j)}$$\n",
    "\n",
    "- The loss function (or binary cross entropy cost function or log-loss function) is given as:\n",
    "\n",
    "$$ L \\left(f_{(w,b,x)}(x) y^{(i,j)} \\right) = -y^{(i,j)} \\log \\left(f_{(w,b,x)} (x) \\right) - \\left (1-y^{(i,j)} \\right) \\log \\left(1- f_{(w,b,x)}(x) \\right) $$\n",
    "\n",
    "- For all the parameters (i.e $w, b and x$), the loss function is:\n",
    "$$ J(w,b,x) = \\sum_{(i,j):r(i,j) = 1} L \\left(f_{(w,b,x)}(x) y^{(i,j)} \\right) $$\n",
    "- Here,  $ f_{(w,b,x)}(x) = g (w^{(j)} . x^{(i)} + b^{(j)})$"
   ]
  },
  {
   "cell_type": "code",
   "execution_count": null,
   "id": "6e531afe-8d82-46e1-8682-19c3cf441996",
   "metadata": {},
   "outputs": [],
   "source": []
  }
 ],
 "metadata": {
  "kernelspec": {
   "display_name": "Python 3 (ipykernel)",
   "language": "python",
   "name": "python3"
  },
  "language_info": {
   "codemirror_mode": {
    "name": "ipython",
    "version": 3
   },
   "file_extension": ".py",
   "mimetype": "text/x-python",
   "name": "python",
   "nbconvert_exporter": "python",
   "pygments_lexer": "ipython3",
   "version": "3.10.12"
  }
 },
 "nbformat": 4,
 "nbformat_minor": 5
}
