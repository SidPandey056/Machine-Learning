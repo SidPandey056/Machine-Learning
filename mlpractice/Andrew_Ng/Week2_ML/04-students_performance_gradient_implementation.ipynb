{
 "cells": [
  {
   "cell_type": "code",
   "execution_count": 1,
   "id": "dffe27f8-d3dd-42d0-81e0-a50eca10f39b",
   "metadata": {},
   "outputs": [],
   "source": [
    "import pandas as pd\n",
    "import numpy as np\n",
    "import matplotlib.pyplot as plt"
   ]
  },
  {
   "cell_type": "code",
   "execution_count": 2,
   "id": "15494a58-c622-4c7f-994e-e0a0ea64ca9f",
   "metadata": {},
   "outputs": [],
   "source": [
    "df = pd.read_csv('Student_Performance.csv')"
   ]
  },
  {
   "cell_type": "code",
   "execution_count": 3,
   "id": "13fd0ed3-927b-4e42-a26c-973a4f0943dd",
   "metadata": {},
   "outputs": [],
   "source": [
    "df  = df.select_dtypes(include = np.number)"
   ]
  },
  {
   "cell_type": "code",
   "execution_count": 4,
   "id": "6c42e361-5e54-435a-b54e-8e8b08b8b7b6",
   "metadata": {},
   "outputs": [
    {
     "data": {
      "text/html": [
       "<div>\n",
       "<style scoped>\n",
       "    .dataframe tbody tr th:only-of-type {\n",
       "        vertical-align: middle;\n",
       "    }\n",
       "\n",
       "    .dataframe tbody tr th {\n",
       "        vertical-align: top;\n",
       "    }\n",
       "\n",
       "    .dataframe thead th {\n",
       "        text-align: right;\n",
       "    }\n",
       "</style>\n",
       "<table border=\"1\" class=\"dataframe\">\n",
       "  <thead>\n",
       "    <tr style=\"text-align: right;\">\n",
       "      <th></th>\n",
       "      <th>Hours Studied</th>\n",
       "      <th>Previous Scores</th>\n",
       "      <th>Sleep Hours</th>\n",
       "      <th>Sample Question Papers Practiced</th>\n",
       "      <th>Performance Index</th>\n",
       "    </tr>\n",
       "  </thead>\n",
       "  <tbody>\n",
       "    <tr>\n",
       "      <th>0</th>\n",
       "      <td>7</td>\n",
       "      <td>99</td>\n",
       "      <td>9</td>\n",
       "      <td>1</td>\n",
       "      <td>91.0</td>\n",
       "    </tr>\n",
       "    <tr>\n",
       "      <th>1</th>\n",
       "      <td>4</td>\n",
       "      <td>82</td>\n",
       "      <td>4</td>\n",
       "      <td>2</td>\n",
       "      <td>65.0</td>\n",
       "    </tr>\n",
       "    <tr>\n",
       "      <th>2</th>\n",
       "      <td>8</td>\n",
       "      <td>51</td>\n",
       "      <td>7</td>\n",
       "      <td>2</td>\n",
       "      <td>45.0</td>\n",
       "    </tr>\n",
       "    <tr>\n",
       "      <th>3</th>\n",
       "      <td>5</td>\n",
       "      <td>52</td>\n",
       "      <td>5</td>\n",
       "      <td>2</td>\n",
       "      <td>36.0</td>\n",
       "    </tr>\n",
       "    <tr>\n",
       "      <th>4</th>\n",
       "      <td>7</td>\n",
       "      <td>75</td>\n",
       "      <td>8</td>\n",
       "      <td>5</td>\n",
       "      <td>66.0</td>\n",
       "    </tr>\n",
       "    <tr>\n",
       "      <th>...</th>\n",
       "      <td>...</td>\n",
       "      <td>...</td>\n",
       "      <td>...</td>\n",
       "      <td>...</td>\n",
       "      <td>...</td>\n",
       "    </tr>\n",
       "    <tr>\n",
       "      <th>9995</th>\n",
       "      <td>1</td>\n",
       "      <td>49</td>\n",
       "      <td>4</td>\n",
       "      <td>2</td>\n",
       "      <td>23.0</td>\n",
       "    </tr>\n",
       "    <tr>\n",
       "      <th>9996</th>\n",
       "      <td>7</td>\n",
       "      <td>64</td>\n",
       "      <td>8</td>\n",
       "      <td>5</td>\n",
       "      <td>58.0</td>\n",
       "    </tr>\n",
       "    <tr>\n",
       "      <th>9997</th>\n",
       "      <td>6</td>\n",
       "      <td>83</td>\n",
       "      <td>8</td>\n",
       "      <td>5</td>\n",
       "      <td>74.0</td>\n",
       "    </tr>\n",
       "    <tr>\n",
       "      <th>9998</th>\n",
       "      <td>9</td>\n",
       "      <td>97</td>\n",
       "      <td>7</td>\n",
       "      <td>0</td>\n",
       "      <td>95.0</td>\n",
       "    </tr>\n",
       "    <tr>\n",
       "      <th>9999</th>\n",
       "      <td>7</td>\n",
       "      <td>74</td>\n",
       "      <td>8</td>\n",
       "      <td>1</td>\n",
       "      <td>64.0</td>\n",
       "    </tr>\n",
       "  </tbody>\n",
       "</table>\n",
       "<p>10000 rows × 5 columns</p>\n",
       "</div>"
      ],
      "text/plain": [
       "      Hours Studied  Previous Scores  Sleep Hours  \\\n",
       "0                 7               99            9   \n",
       "1                 4               82            4   \n",
       "2                 8               51            7   \n",
       "3                 5               52            5   \n",
       "4                 7               75            8   \n",
       "...             ...              ...          ...   \n",
       "9995              1               49            4   \n",
       "9996              7               64            8   \n",
       "9997              6               83            8   \n",
       "9998              9               97            7   \n",
       "9999              7               74            8   \n",
       "\n",
       "      Sample Question Papers Practiced  Performance Index  \n",
       "0                                    1               91.0  \n",
       "1                                    2               65.0  \n",
       "2                                    2               45.0  \n",
       "3                                    2               36.0  \n",
       "4                                    5               66.0  \n",
       "...                                ...                ...  \n",
       "9995                                 2               23.0  \n",
       "9996                                 5               58.0  \n",
       "9997                                 5               74.0  \n",
       "9998                                 0               95.0  \n",
       "9999                                 1               64.0  \n",
       "\n",
       "[10000 rows x 5 columns]"
      ]
     },
     "execution_count": 4,
     "metadata": {},
     "output_type": "execute_result"
    }
   ],
   "source": [
    "df"
   ]
  },
  {
   "cell_type": "code",
   "execution_count": 5,
   "id": "80d419cc-6bf9-427e-a361-e198e1d02883",
   "metadata": {},
   "outputs": [
    {
     "data": {
      "text/plain": [
       "Hours Studied                       False\n",
       "Previous Scores                     False\n",
       "Sleep Hours                         False\n",
       "Sample Question Papers Practiced    False\n",
       "Performance Index                   False\n",
       "dtype: bool"
      ]
     },
     "execution_count": 5,
     "metadata": {},
     "output_type": "execute_result"
    }
   ],
   "source": [
    "# checking if any feature has null value\n",
    "df.isna().any()"
   ]
  },
  {
   "cell_type": "code",
   "execution_count": 6,
   "id": "871c4e52-2ca4-4434-a793-2fc2de419481",
   "metadata": {},
   "outputs": [],
   "source": [
    "features = df.drop('Performance Index', axis = 1)"
   ]
  },
  {
   "cell_type": "code",
   "execution_count": 7,
   "id": "eb17832a-87a2-4112-b02b-7af8a1f89851",
   "metadata": {},
   "outputs": [],
   "source": [
    "def training_matrix(df):\n",
    "    m,n = df.shape\n",
    "    x = np.zeros((m,n))\n",
    "    for i in range(m):\n",
    "        x[i] = df.iloc[i].values\n",
    "    return x"
   ]
  },
  {
   "cell_type": "code",
   "execution_count": 8,
   "id": "d397372f-db87-4954-a964-9a0b442aa207",
   "metadata": {},
   "outputs": [],
   "source": [
    "def feature_scale(df,feature):\n",
    "    '''\n",
    "    df : a pandas DataFrame, here a dataframe which contains only input_labels\n",
    "    feature : column of the df\n",
    "    '''\n",
    "    m = df[feature].shape[0]\n",
    "    feature_scaled = np.zeros(m)\n",
    "    feature_max = df[feature].max()\n",
    "    for i in range(m):\n",
    "        feature_scaled[i] = df[feature].iloc[i]/feature_max\n",
    "    return feature_scaled\n",
    "\n",
    "#function to scale all feature of a df and return a df\n",
    "def scale_all(df):\n",
    "    n = df.columns.shape[0]\n",
    "    zero_data = np.zeros(shape=(len(df), n))\n",
    "    df_scaled = pd.DataFrame(zero_data, columns= df.columns)\n",
    "    for i in range(n):\n",
    "        df_scaled[df_scaled.columns[i]] = feature_scale(df,df.columns[i])\n",
    "    return df_scaled"
   ]
  },
  {
   "cell_type": "code",
   "execution_count": 9,
   "id": "7b3c94ce-af41-4fa7-b940-0f2cddd3b248",
   "metadata": {},
   "outputs": [
    {
     "data": {
      "text/html": [
       "<div>\n",
       "<style scoped>\n",
       "    .dataframe tbody tr th:only-of-type {\n",
       "        vertical-align: middle;\n",
       "    }\n",
       "\n",
       "    .dataframe tbody tr th {\n",
       "        vertical-align: top;\n",
       "    }\n",
       "\n",
       "    .dataframe thead th {\n",
       "        text-align: right;\n",
       "    }\n",
       "</style>\n",
       "<table border=\"1\" class=\"dataframe\">\n",
       "  <thead>\n",
       "    <tr style=\"text-align: right;\">\n",
       "      <th></th>\n",
       "      <th>Hours Studied</th>\n",
       "      <th>Previous Scores</th>\n",
       "      <th>Sleep Hours</th>\n",
       "      <th>Sample Question Papers Practiced</th>\n",
       "      <th>Performance Index</th>\n",
       "    </tr>\n",
       "  </thead>\n",
       "  <tbody>\n",
       "    <tr>\n",
       "      <th>0</th>\n",
       "      <td>0.777778</td>\n",
       "      <td>1.000000</td>\n",
       "      <td>1.000000</td>\n",
       "      <td>0.111111</td>\n",
       "      <td>0.91</td>\n",
       "    </tr>\n",
       "    <tr>\n",
       "      <th>1</th>\n",
       "      <td>0.444444</td>\n",
       "      <td>0.828283</td>\n",
       "      <td>0.444444</td>\n",
       "      <td>0.222222</td>\n",
       "      <td>0.65</td>\n",
       "    </tr>\n",
       "    <tr>\n",
       "      <th>2</th>\n",
       "      <td>0.888889</td>\n",
       "      <td>0.515152</td>\n",
       "      <td>0.777778</td>\n",
       "      <td>0.222222</td>\n",
       "      <td>0.45</td>\n",
       "    </tr>\n",
       "    <tr>\n",
       "      <th>3</th>\n",
       "      <td>0.555556</td>\n",
       "      <td>0.525253</td>\n",
       "      <td>0.555556</td>\n",
       "      <td>0.222222</td>\n",
       "      <td>0.36</td>\n",
       "    </tr>\n",
       "    <tr>\n",
       "      <th>4</th>\n",
       "      <td>0.777778</td>\n",
       "      <td>0.757576</td>\n",
       "      <td>0.888889</td>\n",
       "      <td>0.555556</td>\n",
       "      <td>0.66</td>\n",
       "    </tr>\n",
       "    <tr>\n",
       "      <th>...</th>\n",
       "      <td>...</td>\n",
       "      <td>...</td>\n",
       "      <td>...</td>\n",
       "      <td>...</td>\n",
       "      <td>...</td>\n",
       "    </tr>\n",
       "    <tr>\n",
       "      <th>9995</th>\n",
       "      <td>0.111111</td>\n",
       "      <td>0.494949</td>\n",
       "      <td>0.444444</td>\n",
       "      <td>0.222222</td>\n",
       "      <td>0.23</td>\n",
       "    </tr>\n",
       "    <tr>\n",
       "      <th>9996</th>\n",
       "      <td>0.777778</td>\n",
       "      <td>0.646465</td>\n",
       "      <td>0.888889</td>\n",
       "      <td>0.555556</td>\n",
       "      <td>0.58</td>\n",
       "    </tr>\n",
       "    <tr>\n",
       "      <th>9997</th>\n",
       "      <td>0.666667</td>\n",
       "      <td>0.838384</td>\n",
       "      <td>0.888889</td>\n",
       "      <td>0.555556</td>\n",
       "      <td>0.74</td>\n",
       "    </tr>\n",
       "    <tr>\n",
       "      <th>9998</th>\n",
       "      <td>1.000000</td>\n",
       "      <td>0.979798</td>\n",
       "      <td>0.777778</td>\n",
       "      <td>0.000000</td>\n",
       "      <td>0.95</td>\n",
       "    </tr>\n",
       "    <tr>\n",
       "      <th>9999</th>\n",
       "      <td>0.777778</td>\n",
       "      <td>0.747475</td>\n",
       "      <td>0.888889</td>\n",
       "      <td>0.111111</td>\n",
       "      <td>0.64</td>\n",
       "    </tr>\n",
       "  </tbody>\n",
       "</table>\n",
       "<p>10000 rows × 5 columns</p>\n",
       "</div>"
      ],
      "text/plain": [
       "      Hours Studied  Previous Scores  Sleep Hours  \\\n",
       "0          0.777778         1.000000     1.000000   \n",
       "1          0.444444         0.828283     0.444444   \n",
       "2          0.888889         0.515152     0.777778   \n",
       "3          0.555556         0.525253     0.555556   \n",
       "4          0.777778         0.757576     0.888889   \n",
       "...             ...              ...          ...   \n",
       "9995       0.111111         0.494949     0.444444   \n",
       "9996       0.777778         0.646465     0.888889   \n",
       "9997       0.666667         0.838384     0.888889   \n",
       "9998       1.000000         0.979798     0.777778   \n",
       "9999       0.777778         0.747475     0.888889   \n",
       "\n",
       "      Sample Question Papers Practiced  Performance Index  \n",
       "0                             0.111111               0.91  \n",
       "1                             0.222222               0.65  \n",
       "2                             0.222222               0.45  \n",
       "3                             0.222222               0.36  \n",
       "4                             0.555556               0.66  \n",
       "...                                ...                ...  \n",
       "9995                          0.222222               0.23  \n",
       "9996                          0.555556               0.58  \n",
       "9997                          0.555556               0.74  \n",
       "9998                          0.000000               0.95  \n",
       "9999                          0.111111               0.64  \n",
       "\n",
       "[10000 rows x 5 columns]"
      ]
     },
     "execution_count": 9,
     "metadata": {},
     "output_type": "execute_result"
    }
   ],
   "source": [
    "scaled_df = scale_all(df)\n",
    "scaled_df"
   ]
  },
  {
   "cell_type": "code",
   "execution_count": 10,
   "id": "f24993b4-8d54-43f9-95a0-a28585b13d56",
   "metadata": {},
   "outputs": [
    {
     "data": {
      "image/png": "[encoded data removed]",
      "text/plain": [
       "<Figure size 700x800 with 4 Axes>"
      ]
     },
     "metadata": {},
     "output_type": "display_data"
    }
   ],
   "source": [
    "figure,axes = plt.subplots(3,2, figsize = (7,8))\n",
    "for (i, feature) in enumerate(scaled_df):\n",
    "    axes[i//2, i%2].scatter(scaled_df[feature], scaled_df['Performance Index'])\n",
    "    axes[i//2, i%2].set_xlabel(feature)\n",
    "    axes[i//2, i%2].set_ylabel('Performance Index')\n",
    "    axes[i//2, i%2].set_title(feature + 'vs studemts Performance')\n",
    "figure.tight_layout()\n",
    "figure.subplots_adjust(top=1, right =1.7)\n",
    "figure.delaxes(axes[2,1])\n",
    "figure.delaxes(axes[2,0])"
   ]
  },
  {
   "cell_type": "code",
   "execution_count": 11,
   "id": "c990c43f-8d83-4e6b-b50c-28a2bd092323",
   "metadata": {},
   "outputs": [],
   "source": [
    "def cost_function(x,y,w,b):\n",
    "    m = x.shape[0]\n",
    "    summation = 0\n",
    "    fx = np.zeros(m)\n",
    "    for i in range(m):\n",
    "        fx[i]= w.dot(x[i]) + b\n",
    "        summation += (fx[i] - y[i])**2\n",
    "    jw = summation/(2*m)\n",
    "    return jw"
   ]
  },
  {
   "cell_type": "code",
   "execution_count": 12,
   "id": "42c09307-7a14-4b69-9479-72e5323368d0",
   "metadata": {},
   "outputs": [],
   "source": [
    "x = training_matrix(scaled_df.drop('Performance Index', axis = 1))\n",
    "y = scaled_df['Performance Index'].values\n",
    "w = np.array([1,1,1,1])\n",
    "b = 1"
   ]
  },
  {
   "cell_type": "code",
   "execution_count": 13,
   "id": "c1786159-bbf0-4d5a-8d33-a17b47466edc",
   "metadata": {},
   "outputs": [
    {
     "data": {
      "text/plain": [
       "np.float64(4.4082238172839725)"
      ]
     },
     "execution_count": 13,
     "metadata": {},
     "output_type": "execute_result"
    }
   ],
   "source": [
    "cost_function(x,y,w,b)"
   ]
  },
  {
   "cell_type": "code",
   "execution_count": 22,
   "id": "4416c7db-4340-49e4-aa79-8aa6af016784",
   "metadata": {},
   "outputs": [
    {
     "data": {
      "text/plain": [
       "((10000, 4), (10000,), (4,))"
      ]
     },
     "execution_count": 22,
     "metadata": {},
     "output_type": "execute_result"
    }
   ],
   "source": [
    "x.shape, y.shape, w.shape"
   ]
  },
  {
   "cell_type": "code",
   "execution_count": null,
   "id": "4badafb2-f200-490a-bc90-ecccf1826966",
   "metadata": {},
   "outputs": [],
   "source": [
    "plt.plot(cost_hist)\n",
    "plt.xlabel('iterations')\n",
    "plt.ylabel('cost')"
   ]
  },
  {
   "cell_type": "code",
   "execution_count": 27,
   "id": "ed5446ed-1f9c-448d-896d-dd3eb8fe73dc",
   "metadata": {},
   "outputs": [],
   "source": [
    "def compute_cost(X, y, w, b): \n",
    "    \"\"\"\n",
    "    compute cost\n",
    "    Args:\n",
    "      X : (ndarray): Shape (m,n) matrix of examples with multiple features\n",
    "      w : (ndarray): Shape (n)   parameters for prediction   \n",
    "      b : (scalar):              parameter  for prediction   \n",
    "    Returns\n",
    "      cost: (scalar)             cost\n",
    "    \"\"\"\n",
    "    m = X.shape[0]\n",
    "    cost = 0.0\n",
    "    for i in range(m):                                \n",
    "        f_wb_i = np.dot(X[i],w) + b       \n",
    "        cost = cost + (f_wb_i - y[i])**2              \n",
    "    cost = cost/(2*m)                                 \n",
    "    return(np.squeeze(cost)) \n",
    "\n",
    "def compute_gradient(X, y, w, b): \n",
    "    \"\"\"\n",
    "    Computes the gradient for linear regression \n",
    "    Args:\n",
    "      X : (ndarray Shape (m,n)) matrix of examples \n",
    "      y : (ndarray Shape (m,))  target value of each example\n",
    "      w : (ndarray Shape (n,))  parameters of the model      \n",
    "      b : (scalar)              parameter of the model      \n",
    "    Returns\n",
    "      dj_dw : (ndarray Shape (n,)) The gradient of the cost w.r.t. the parameters w. \n",
    "      dj_db : (scalar)             The gradient of the cost w.r.t. the parameter b. \n",
    "    \"\"\"\n",
    "    m,n = X.shape           #(number of examples, number of features)\n",
    "    dj_dw = np.zeros((n,))\n",
    "    dj_db = 0.\n",
    "\n",
    "    for i in range(m):                             \n",
    "        err = (np.dot(X[i], w) + b) - y[i]   \n",
    "        for j in range(n):                         \n",
    "            dj_dw[j] = dj_dw[j] + err * X[i,j]    \n",
    "        dj_db = dj_db + err                        \n",
    "    dj_dw = dj_dw/m                                \n",
    "    dj_db = dj_db/m                                \n",
    "        \n",
    "    return dj_db,dj_dw\n"
   ]
  },
  {
   "cell_type": "code",
   "execution_count": 28,
   "id": "90456544-15cc-4db1-be18-68e739e21bd1",
   "metadata": {},
   "outputs": [
    {
     "data": {
      "text/plain": [
       "(np.float64(0.44775200000000176),\n",
       " array([0.22774211, 0.28328574, 0.32315744, 0.225372  ]))"
      ]
     },
     "execution_count": 28,
     "metadata": {},
     "output_type": "execute_result"
    }
   ],
   "source": [
    "compute_gradient(x,y,w,b)"
   ]
  },
  {
   "cell_type": "code",
   "execution_count": 38,
   "id": "4c93b93a-0cf8-40d4-bd9b-c16c8287dab5",
   "metadata": {},
   "outputs": [],
   "source": [
    "def gradient_descent(x,y,w,b,alpha):\n",
    "    m,n = x.shape\n",
    "    cost_hist = []\n",
    "    count = 0\n",
    "    runit = True\n",
    "    dj_db, dj_dw = compute_gradient(x,y,w,b)\n",
    "    while(runit):\n",
    "        count +=1\n",
    "        w = w - alpha*dj_dw\n",
    "        b = b - alpha*dj_db\n",
    "        cost = compute_cost(x,y,w,b)\n",
    "        cost_hist.append(cost)\n",
    "        if(cost< 0.01 or count == 10000):\n",
    "            runit = False\n",
    "    return w,b,cost,cost_hist,count"
   ]
  },
  {
   "cell_type": "code",
   "execution_count": 39,
   "id": "ce722278-49f0-40e2-bffc-5d7b859dc5b0",
   "metadata": {},
   "outputs": [
    {
     "data": {
      "text/plain": [
       "((10000, 4), (10000,), (4,), 1)"
      ]
     },
     "execution_count": 39,
     "metadata": {},
     "output_type": "execute_result"
    }
   ],
   "source": [
    "x.shape, y.shape, w.shape, b"
   ]
  },
  {
   "cell_type": "code",
   "execution_count": 40,
   "id": "bb98e12f-bc7e-424b-bdf7-53db6761c1fc",
   "metadata": {},
   "outputs": [],
   "source": [
    "w_opt, b_opt, cost ,cost_hist, itrs = gradient_descent(x,y,w,b,0.000001)"
   ]
  },
  {
   "cell_type": "code",
   "execution_count": 42,
   "id": "26e6d4b2-b290-4752-b504-2b0b986d6a2a",
   "metadata": {},
   "outputs": [
    {
     "data": {
      "text/plain": [
       "(array([-0.00227742, -0.00283286, -0.00323157, -0.00225372]),\n",
       " np.float64(0.9955224799996767),\n",
       " np.float64(0.11388072048013051),\n",
       " 10000)"
      ]
     },
     "execution_count": 42,
     "metadata": {},
     "output_type": "execute_result"
    }
   ],
   "source": [
    "w_opt, b_opt, cost, itrs"
   ]
  },
  {
   "cell_type": "code",
   "execution_count": 43,
   "id": "38157a92-45a3-4f03-968a-b2f9b6f6348f",
   "metadata": {},
   "outputs": [
    {
     "data": {
      "text/plain": [
       "Text(0, 0.5, 'cost')"
      ]
     },
     "execution_count": 43,
     "metadata": {},
     "output_type": "execute_result"
    },
    {
     "data": {
      "image/png": "[encoded data removed]",
      "text/plain": [
       "<Figure size 640x480 with 1 Axes>"
      ]
     },
     "metadata": {},
     "output_type": "display_data"
    }
   ],
   "source": [
    "plt.plot(cost_hist)\n",
    "plt.xlabel('iterations')\n",
    "plt.ylabel('cost')"
   ]
  },
  {
   "cell_type": "code",
   "execution_count": null,
   "id": "6fb4b021-0695-41bc-8c0f-267304c0aba7",
   "metadata": {},
   "outputs": [],
   "source": []
  }
 ],
 "metadata": {
  "kernelspec": {
   "display_name": "Python 3 (ipykernel)",
   "language": "python",
   "name": "python3"
  },
  "language_info": {
   "codemirror_mode": {
    "name": "ipython",
    "version": 3
   },
   "file_extension": ".py",
   "mimetype": "text/x-python",
   "name": "python",
   "nbconvert_exporter": "python",
   "pygments_lexer": "ipython3",
   "version": "3.10.12"
  }
 },
 "nbformat": 4,
 "nbformat_minor": 5
}
