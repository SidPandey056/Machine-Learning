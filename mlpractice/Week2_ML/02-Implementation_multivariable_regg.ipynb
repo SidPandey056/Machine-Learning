{
 "cells": [
  {
   "cell_type": "code",
   "execution_count": 1,
   "id": "3a002ae6-b2d7-4dc2-a3a4-e9d674b10413",
   "metadata": {},
   "outputs": [],
   "source": [
    "import pandas as pd\n",
    "import numpy as np\n",
    "import matplotlib.pyplot as plt\n",
    "import warnings\n",
    "warnings.filterwarnings('ignore')"
   ]
  },
  {
   "cell_type": "code",
   "execution_count": 2,
   "id": "8ad19f20-2ccd-4eb7-9ba7-d61aeaa2b049",
   "metadata": {},
   "outputs": [
    {
     "data": {
      "text/html": [
       "<div>\n",
       "<style scoped>\n",
       "    .dataframe tbody tr th:only-of-type {\n",
       "        vertical-align: middle;\n",
       "    }\n",
       "\n",
       "    .dataframe tbody tr th {\n",
       "        vertical-align: top;\n",
       "    }\n",
       "\n",
       "    .dataframe thead th {\n",
       "        text-align: right;\n",
       "    }\n",
       "</style>\n",
       "<table border=\"1\" class=\"dataframe\">\n",
       "  <thead>\n",
       "    <tr style=\"text-align: right;\">\n",
       "      <th></th>\n",
       "      <th>Car Model</th>\n",
       "      <th>Horsepower</th>\n",
       "      <th>Weight</th>\n",
       "      <th>MPG</th>\n",
       "      <th>Price</th>\n",
       "    </tr>\n",
       "  </thead>\n",
       "  <tbody>\n",
       "    <tr>\n",
       "      <th>0</th>\n",
       "      <td>Car A</td>\n",
       "      <td>130</td>\n",
       "      <td>3500</td>\n",
       "      <td>22</td>\n",
       "      <td>20000</td>\n",
       "    </tr>\n",
       "    <tr>\n",
       "      <th>1</th>\n",
       "      <td>Car B</td>\n",
       "      <td>165</td>\n",
       "      <td>3700</td>\n",
       "      <td>18</td>\n",
       "      <td>25000</td>\n",
       "    </tr>\n",
       "    <tr>\n",
       "      <th>2</th>\n",
       "      <td>Car C</td>\n",
       "      <td>150</td>\n",
       "      <td>3400</td>\n",
       "      <td>20</td>\n",
       "      <td>23000</td>\n",
       "    </tr>\n",
       "    <tr>\n",
       "      <th>3</th>\n",
       "      <td>Car D</td>\n",
       "      <td>180</td>\n",
       "      <td>4000</td>\n",
       "      <td>16</td>\n",
       "      <td>27000</td>\n",
       "    </tr>\n",
       "    <tr>\n",
       "      <th>4</th>\n",
       "      <td>Car E</td>\n",
       "      <td>140</td>\n",
       "      <td>3300</td>\n",
       "      <td>24</td>\n",
       "      <td>21000</td>\n",
       "    </tr>\n",
       "    <tr>\n",
       "      <th>...</th>\n",
       "      <td>...</td>\n",
       "      <td>...</td>\n",
       "      <td>...</td>\n",
       "      <td>...</td>\n",
       "      <td>...</td>\n",
       "    </tr>\n",
       "    <tr>\n",
       "      <th>73</th>\n",
       "      <td>Car BV</td>\n",
       "      <td>170</td>\n",
       "      <td>3750</td>\n",
       "      <td>18</td>\n",
       "      <td>25500</td>\n",
       "    </tr>\n",
       "    <tr>\n",
       "      <th>74</th>\n",
       "      <td>Car BW</td>\n",
       "      <td>180</td>\n",
       "      <td>4050</td>\n",
       "      <td>17</td>\n",
       "      <td>27500</td>\n",
       "    </tr>\n",
       "    <tr>\n",
       "      <th>75</th>\n",
       "      <td>Car BX</td>\n",
       "      <td>165</td>\n",
       "      <td>3400</td>\n",
       "      <td>22</td>\n",
       "      <td>24500</td>\n",
       "    </tr>\n",
       "    <tr>\n",
       "      <th>76</th>\n",
       "      <td>Car BY</td>\n",
       "      <td>150</td>\n",
       "      <td>3250</td>\n",
       "      <td>24</td>\n",
       "      <td>23000</td>\n",
       "    </tr>\n",
       "    <tr>\n",
       "      <th>77</th>\n",
       "      <td>Car BZ</td>\n",
       "      <td>140</td>\n",
       "      <td>3150</td>\n",
       "      <td>26</td>\n",
       "      <td>21000</td>\n",
       "    </tr>\n",
       "  </tbody>\n",
       "</table>\n",
       "<p>78 rows × 5 columns</p>\n",
       "</div>"
      ],
      "text/plain": [
       "   Car Model  Horsepower  Weight  MPG  Price\n",
       "0      Car A         130    3500   22  20000\n",
       "1      Car B         165    3700   18  25000\n",
       "2      Car C         150    3400   20  23000\n",
       "3      Car D         180    4000   16  27000\n",
       "4      Car E         140    3300   24  21000\n",
       "..       ...         ...     ...  ...    ...\n",
       "73    Car BV         170    3750   18  25500\n",
       "74    Car BW         180    4050   17  27500\n",
       "75    Car BX         165    3400   22  24500\n",
       "76    Car BY         150    3250   24  23000\n",
       "77    Car BZ         140    3150   26  21000\n",
       "\n",
       "[78 rows x 5 columns]"
      ]
     },
     "execution_count": 2,
     "metadata": {},
     "output_type": "execute_result"
    }
   ],
   "source": [
    "# Create a DataFrame\n",
    "df = pd.read_csv('cardata.csv')\n",
    "df"
   ]
  },
  {
   "cell_type": "code",
   "execution_count": 3,
   "id": "266c770d-60b9-4107-a06f-12bb48469634",
   "metadata": {},
   "outputs": [],
   "source": [
    "# function to arrange the dataframe in matrix form (i.e 2d array)\n",
    "new_df = df.drop(['Price', 'Car Model'], axis = 1)\n",
    "x = np.zeros((len(new_df), len(new_df.columns)), dtype=int)\n",
    "for i in range(len(new_df)):\n",
    "    x[i] = new_df.iloc[i].values"
   ]
  },
  {
   "cell_type": "markdown",
   "id": "b645834f-4f06-4b60-a71d-76980cc4fea0",
   "metadata": {},
   "source": [
    "#### Arranging all the input labels in the matrix form as:\n",
    "$$ x = \\begin{bmatrix} x^0_0\\quad x^0_1\\quad x^0_2\\quad ...\\quad x^0_{(n-1)}\\\\ x^1_0\\quad x^1_1\\quad x^1_2\\quad ...\\quad x^1_{(n-1)}\\\\ \\vdots \\\\ x^{(m-1)}_{0}\\quad x^{(m-1)}_1\\quad x^{(m-1)}_2\\quad ...\\quad x^{(m-1)}_{(n-1)} \\end{bmatrix}$$"
   ]
  },
  {
   "cell_type": "code",
   "execution_count": 4,
   "id": "b786dac5-e3da-4ea7-a380-70a948bb46c7",
   "metadata": {},
   "outputs": [],
   "source": [
    "# function caluclate f(x) = wx + b for a single j, where w and x are vectors (i.e numpy array here)\n",
    "def prediction(x,w,b):\n",
    "    pr = np.dot(w,x)\n",
    "    pr = pr+b\n",
    "    return pr\n",
    "\n",
    "# function to calculate f(x) = wx + b for all m rows of a training dataset\n",
    "def prediction_data(w,x,b):\n",
    "    m = x.shape[0]\n",
    "    n = x.shape[1]\n",
    "    p = np.zeros(m, dtype=int)\n",
    "    for i in range(m):\n",
    "        p[i] =prediction(x[i,:],w,b)\n",
    "    return p"
   ]
  },
  {
   "cell_type": "code",
   "execution_count": 5,
   "id": "0590fc58-ba24-443a-9659-bd7dfd9cbecc",
   "metadata": {},
   "outputs": [
    {
     "data": {
      "text/plain": [
       "array([14722, 15603, 14370, 16836, 13964, 15239, 16006, 13603, 13185,\n",
       "       16412, 14531, 15012, 13773, 17451, 14194, 15430, 15791, 14809,\n",
       "       13370, 16627, 14612, 15003, 13579, 17248, 14230, 15609, 13988,\n",
       "       13170, 16021, 14806, 13567, 12761, 15385, 15818, 17042, 14427,\n",
       "       13794, 13376, 16221, 15006, 13967, 12955, 15185, 15618, 16842,\n",
       "       14627, 13594, 13176, 16421, 14806, 13373, 12755, 15385, 15818,\n",
       "       17042, 14427, 13794, 13376, 16221, 15006, 13967, 12955, 15185,\n",
       "       15618, 16842, 14627, 13594, 13176, 16421, 14806, 13373, 12755,\n",
       "       15385, 15818, 17042, 14427, 13794, 13376])"
      ]
     },
     "execution_count": 5,
     "metadata": {},
     "output_type": "execute_result"
    }
   ],
   "source": [
    "w = [3,4,6]\n",
    "y_hat= prediction_data(w,x,200)\n",
    "y_hat"
   ]
  },
  {
   "cell_type": "code",
   "execution_count": 6,
   "id": "47ce6410-7d61-4e37-a804-57bd94b94f6a",
   "metadata": {},
   "outputs": [],
   "source": [
    "# function to scale a particular feature and return a np array of scaled feature\n",
    "# used 'dividing by maximum' approach of feature scaling\n",
    "def feature_scale(df,feature):\n",
    "    '''\n",
    "    df : a pandas DataFrame, here a dataframe which contains only input_labels\n",
    "    feature : column of the df\n",
    "    '''\n",
    "    m = df[feature].shape[0]\n",
    "    feature_scaled = np.zeros(m)\n",
    "    feature_max = df[feature].max()\n",
    "    for i in range(m):\n",
    "        feature_scaled[i] = df[feature].iloc[i]/feature_max\n",
    "    return feature_scaled\n",
    "\n",
    "#function to scale all feature of a df and return a df\n",
    "def scale_all(df):\n",
    "    n = df.columns.shape[0]\n",
    "    zero_data = np.zeros(shape=(len(df), n))\n",
    "    df_scaled = pd.DataFrame(zero_data, columns= df.columns)\n",
    "    for i in range(n):\n",
    "        df_scaled[df_scaled.columns[i]] = feature_scale(df,df.columns[i])\n",
    "    return df_scaled"
   ]
  },
  {
   "cell_type": "code",
   "execution_count": 7,
   "id": "51da624a-a066-4c8a-8fa9-c19aba402752",
   "metadata": {},
   "outputs": [
    {
     "data": {
      "text/html": [
       "<div>\n",
       "<style scoped>\n",
       "    .dataframe tbody tr th:only-of-type {\n",
       "        vertical-align: middle;\n",
       "    }\n",
       "\n",
       "    .dataframe tbody tr th {\n",
       "        vertical-align: top;\n",
       "    }\n",
       "\n",
       "    .dataframe thead th {\n",
       "        text-align: right;\n",
       "    }\n",
       "</style>\n",
       "<table border=\"1\" class=\"dataframe\">\n",
       "  <thead>\n",
       "    <tr style=\"text-align: right;\">\n",
       "      <th></th>\n",
       "      <th>Horsepower</th>\n",
       "      <th>Weight</th>\n",
       "      <th>MPG</th>\n",
       "      <th>Price</th>\n",
       "    </tr>\n",
       "  </thead>\n",
       "  <tbody>\n",
       "    <tr>\n",
       "      <th>0</th>\n",
       "      <td>0.702703</td>\n",
       "      <td>0.843373</td>\n",
       "      <td>0.846154</td>\n",
       "      <td>0.727273</td>\n",
       "    </tr>\n",
       "    <tr>\n",
       "      <th>1</th>\n",
       "      <td>0.891892</td>\n",
       "      <td>0.891566</td>\n",
       "      <td>0.692308</td>\n",
       "      <td>0.909091</td>\n",
       "    </tr>\n",
       "    <tr>\n",
       "      <th>2</th>\n",
       "      <td>0.810811</td>\n",
       "      <td>0.819277</td>\n",
       "      <td>0.769231</td>\n",
       "      <td>0.836364</td>\n",
       "    </tr>\n",
       "    <tr>\n",
       "      <th>3</th>\n",
       "      <td>0.972973</td>\n",
       "      <td>0.963855</td>\n",
       "      <td>0.615385</td>\n",
       "      <td>0.981818</td>\n",
       "    </tr>\n",
       "    <tr>\n",
       "      <th>4</th>\n",
       "      <td>0.756757</td>\n",
       "      <td>0.795181</td>\n",
       "      <td>0.923077</td>\n",
       "      <td>0.763636</td>\n",
       "    </tr>\n",
       "    <tr>\n",
       "      <th>...</th>\n",
       "      <td>...</td>\n",
       "      <td>...</td>\n",
       "      <td>...</td>\n",
       "      <td>...</td>\n",
       "    </tr>\n",
       "    <tr>\n",
       "      <th>73</th>\n",
       "      <td>0.918919</td>\n",
       "      <td>0.903614</td>\n",
       "      <td>0.692308</td>\n",
       "      <td>0.927273</td>\n",
       "    </tr>\n",
       "    <tr>\n",
       "      <th>74</th>\n",
       "      <td>0.972973</td>\n",
       "      <td>0.975904</td>\n",
       "      <td>0.653846</td>\n",
       "      <td>1.000000</td>\n",
       "    </tr>\n",
       "    <tr>\n",
       "      <th>75</th>\n",
       "      <td>0.891892</td>\n",
       "      <td>0.819277</td>\n",
       "      <td>0.846154</td>\n",
       "      <td>0.890909</td>\n",
       "    </tr>\n",
       "    <tr>\n",
       "      <th>76</th>\n",
       "      <td>0.810811</td>\n",
       "      <td>0.783133</td>\n",
       "      <td>0.923077</td>\n",
       "      <td>0.836364</td>\n",
       "    </tr>\n",
       "    <tr>\n",
       "      <th>77</th>\n",
       "      <td>0.756757</td>\n",
       "      <td>0.759036</td>\n",
       "      <td>1.000000</td>\n",
       "      <td>0.763636</td>\n",
       "    </tr>\n",
       "  </tbody>\n",
       "</table>\n",
       "<p>78 rows × 4 columns</p>\n",
       "</div>"
      ],
      "text/plain": [
       "    Horsepower    Weight       MPG     Price\n",
       "0     0.702703  0.843373  0.846154  0.727273\n",
       "1     0.891892  0.891566  0.692308  0.909091\n",
       "2     0.810811  0.819277  0.769231  0.836364\n",
       "3     0.972973  0.963855  0.615385  0.981818\n",
       "4     0.756757  0.795181  0.923077  0.763636\n",
       "..         ...       ...       ...       ...\n",
       "73    0.918919  0.903614  0.692308  0.927273\n",
       "74    0.972973  0.975904  0.653846  1.000000\n",
       "75    0.891892  0.819277  0.846154  0.890909\n",
       "76    0.810811  0.783133  0.923077  0.836364\n",
       "77    0.756757  0.759036  1.000000  0.763636\n",
       "\n",
       "[78 rows x 4 columns]"
      ]
     },
     "execution_count": 7,
     "metadata": {},
     "output_type": "execute_result"
    }
   ],
   "source": [
    "df_toScale = df.drop('Car Model', axis = 1)\n",
    "scaled_df = scale_all(df_toScale)\n",
    "scaled_df"
   ]
  },
  {
   "cell_type": "code",
   "execution_count": 8,
   "id": "4d176fb1-5ff3-44fe-a4ff-a373e67dd77f",
   "metadata": {},
   "outputs": [
    {
     "data": {
      "image/png": "[encoded data removed]",
      "text/plain": [
       "<Figure size 640x480 with 3 Axes>"
      ]
     },
     "metadata": {},
     "output_type": "display_data"
    }
   ],
   "source": [
    "figure,axes = plt.subplots(2,2)\n",
    "for (i, feature) in enumerate(scaled_df):\n",
    "    axes[i//2, i%2].scatter(scaled_df[feature], scaled_df['Price'])\n",
    "    axes[i//2, i%2].set_xlabel(feature)\n",
    "    axes[i//2, i%2].set_ylabel('Price')\n",
    "    axes[i//2, i%2].set_title(feature + 'vs Price')\n",
    "figure.tight_layout()\n",
    "figure.delaxes(axes[1,1])"
   ]
  },
  {
   "cell_type": "markdown",
   "id": "66931dc3-fb87-4d6f-bd51-09d0fb8b4cca",
   "metadata": {},
   "source": [
    "### Regression model, cost function and gradient descent\n",
    "$$ \\hat y = w_1x_1 + w_2x_2 + w_3x_3 + b$$\n",
    "$$ f_{\\vec w, b}(\\vec x) = \\vec w .\\vec x +b$$\n",
    "- const function\n",
    "$$ J(\\vec w,b)= \\frac{1}{2m} \\sum_{i=0}^{m-1}(f_{\\vec w ,b}(x^i) - y^i)^2 $$"
   ]
  },
  {
   "cell_type": "code",
   "execution_count": 9,
   "id": "e39b1bc7-541a-482f-818f-59b95da9347b",
   "metadata": {},
   "outputs": [],
   "source": [
    "x = np.array([scaled_df['Horsepower'], scaled_df['Weight'], scaled_df['MPG']])\n",
    "w = np.array([0,0,0], dtype=float).reshape(1,3)\n",
    "y = np.array([scaled_df['Price']])\n",
    "x = x.transpose()\n",
    "y = y.transpose()"
   ]
  },
  {
   "cell_type": "code",
   "execution_count": 10,
   "id": "7c4aafba-e30d-4985-904b-ffb67b7252a8",
   "metadata": {},
   "outputs": [],
   "source": [
    "def cost_function(x,y,w,b):\n",
    "    m = x.shape[0]\n",
    "    summation = 0\n",
    "    fx = np.zeros(m)\n",
    "    for i in range(m):\n",
    "        fx[i]= w.dot(x[i]) + b\n",
    "        summation += (fx[i] - y[i])**2\n",
    "    jw = summation/(2*m)\n",
    "    return jw"
   ]
  },
  {
   "cell_type": "code",
   "execution_count": 11,
   "id": "54674538-c1ca-4f2c-baab-56deec85cd31",
   "metadata": {},
   "outputs": [
    {
     "data": {
      "text/plain": [
       "array([0.01336088])"
      ]
     },
     "execution_count": 11,
     "metadata": {},
     "output_type": "execute_result"
    }
   ],
   "source": [
    "cost_function(x,y,w, 1)"
   ]
  },
  {
   "cell_type": "markdown",
   "id": "bb014f7a-2043-4e03-942a-be5940f9bdff",
   "metadata": {},
   "source": [
    "# gradient\n",
    "$$ \\frac{\\partial J(\\vec w, b)}{\\partial w} = \\frac{1}{m} \\sum_{i=0}^{m-1}(f_{\\vec w,b}(x^i) - y^i)x^i_j $$"
   ]
  },
  {
   "cell_type": "code",
   "execution_count": 12,
   "id": "ea71c029-bf33-40fd-a80c-ffa351cc8374",
   "metadata": {},
   "outputs": [],
   "source": [
    "def calc_gradient(x,y,w,b):\n",
    "    m = x.shape[0]\n",
    "    n = x.shape[1]\n",
    "    fx = np.zeros(m)\n",
    "    dj_dw = np.zeros(n)\n",
    "    inner = 0\n",
    "    for i in range(n):\n",
    "        inner = 0\n",
    "        for j in range(m):\n",
    "            fx[j] = w.dot(x[j]) + b\n",
    "            inner += (fx[j] - y[j])*x[j][i]\n",
    "        dj_dw[i] = inner/m\n",
    "\n",
    "    dj_db = (((w.dot(x.transpose()) + b) - y.transpose()).sum())/m\n",
    "    return dj_dw, dj_db\n",
    "            "
   ]
  },
  {
   "cell_type": "code",
   "execution_count": 13,
   "id": "2258b8e7-c903-4d5f-ad9a-e7e9757e2821",
   "metadata": {},
   "outputs": [],
   "source": [
    "dw, db = calc_gradient(x,y,w,1)"
   ]
  },
  {
   "cell_type": "code",
   "execution_count": 14,
   "id": "f0dcdc53-4ec6-48f6-b2f3-41003acf82b7",
   "metadata": {},
   "outputs": [
    {
     "data": {
      "text/plain": [
       "((78, 3), (78, 1), (1, 3))"
      ]
     },
     "execution_count": 14,
     "metadata": {},
     "output_type": "execute_result"
    }
   ],
   "source": [
    "x.shape, y.shape, w.shape"
   ]
  },
  {
   "cell_type": "code",
   "execution_count": 26,
   "id": "ae3377ec-143e-474d-9478-da208c506726",
   "metadata": {},
   "outputs": [],
   "source": [
    "def gradient_descent(x,y,w,b,alpha):\n",
    "    dw, db = calc_gradient(x,y,w,1)\n",
    "    n = w.shape[1]\n",
    "    runit = True\n",
    "    cost_history = []\n",
    "    count = 0\n",
    "    while(runit):\n",
    "        count += 1\n",
    "        for i in range(n):\n",
    "            w[0,i] = w[0,i] - alpha * dw[i]\n",
    "        b = b - alpha * db\n",
    "        cost = cost_function(x,y,w,b)\n",
    "        cost_history.append(cost)\n",
    "        if(cost < 0.001 or count == 90000):\n",
    "            runit = False\n",
    "    return w,b, count, cost,cost_history"
   ]
  },
  {
   "cell_type": "code",
   "execution_count": 27,
   "id": "e9e645b9-2b15-4958-989a-e6d8e32da0bd",
   "metadata": {},
   "outputs": [],
   "source": [
    "x = np.array([scaled_df['Horsepower'], scaled_df['Weight'], scaled_df['MPG']])\n",
    "w = np.array([1,1,-1], dtype=float).reshape(1,3)\n",
    "y = np.array([scaled_df['Price']])\n",
    "x = x.transpose()\n",
    "y = y.transpose()\n",
    "w_opt, b_opt, iterations, cost, cost_history = gradient_descent(x,y,w,0,0.0000001)"
   ]
  },
  {
   "cell_type": "code",
   "execution_count": 28,
   "id": "0f13d479-9435-486e-976c-d4928084fa75",
   "metadata": {},
   "outputs": [
    {
     "data": {
      "text/plain": [
       "(90000,\n",
       " array([[ 0.99201075,  0.99208436, -1.00729517]]),\n",
       " np.float64(-0.009239970062989832),\n",
       " array([0.01797852]))"
      ]
     },
     "execution_count": 28,
     "metadata": {},
     "output_type": "execute_result"
    }
   ],
   "source": [
    "iterations\n",
    "len(cost_history) , w_opt, b_opt,cost"
   ]
  },
  {
   "cell_type": "code",
   "execution_count": 29,
   "id": "7623ae71-6426-40f6-b03d-6561019875bd",
   "metadata": {},
   "outputs": [
    {
     "data": {
      "text/plain": [
       "Text(0, 0.5, 'cost')"
      ]
     },
     "execution_count": 29,
     "metadata": {},
     "output_type": "execute_result"
    },
    {
     "data": {
      "image/png": "[encoded data removed]",
      "text/plain": [
       "<Figure size 640x480 with 1 Axes>"
      ]
     },
     "metadata": {},
     "output_type": "display_data"
    }
   ],
   "source": [
    "plt.plot(cost_history)\n",
    "plt.xlabel('iterations')\n",
    "plt.ylabel('cost')"
   ]
  },
  {
   "cell_type": "code",
   "execution_count": 19,
   "id": "73dd6d50-2547-48cf-a596-02cf6e2074e3",
   "metadata": {},
   "outputs": [
    {
     "data": {
      "text/plain": [
       "((78, 3), (1, 3), np.float64(-0.051333167016682855))"
      ]
     },
     "execution_count": 19,
     "metadata": {},
     "output_type": "execute_result"
    }
   ],
   "source": [
    "x.shape , w_opt.shape, b_opt"
   ]
  },
  {
   "cell_type": "code",
   "execution_count": null,
   "id": "1bb959fd-b5e9-4422-aea9-5f182e510f90",
   "metadata": {},
   "outputs": [],
   "source": []
  }
 ],
 "metadata": {
  "kernelspec": {
   "display_name": "Python 3 (ipykernel)",
   "language": "python",
   "name": "python3"
  },
  "language_info": {
   "codemirror_mode": {
    "name": "ipython",
    "version": 3
   },
   "file_extension": ".py",
   "mimetype": "text/x-python",
   "name": "python",
   "nbconvert_exporter": "python",
   "pygments_lexer": "ipython3",
   "version": "3.10.12"
  }
 },
 "nbformat": 4,
 "nbformat_minor": 5
}
