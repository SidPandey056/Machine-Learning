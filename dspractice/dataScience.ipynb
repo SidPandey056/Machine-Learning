{
 "cells": [
  {
   "cell_type": "markdown",
   "id": "554203d9-3f4a-40d9-82a1-e3158fc2421b",
   "metadata": {},
   "source": [
    "# Steps in Data Preparation for Analysis\n",
    "#### <u>1. Data collection</u>\n",
    "- Collecting data from possible sources that satisfies the need. Could be from multiple sources.\n",
    "#### <u>2. Data Discretization</u>\n",
    "- Process of converting continuous data into set of discrete data or categories\n",
    "\n",
    "#### <u>3. Data Cleaning</u>\n",
    "- Involves steps like checking for null values and duplicates\n",
    "\n",
    "#### <u>4. Data integration</u>\n",
    "- Combining data from heterogenous sources (that are alrady descretized and cleaned)\n",
    "\n",
    "#### <u>5. Data Exploration (EDA - Exploratory Data Analysis)</u>\n",
    "- Investigate for possible data patterns, spot anomalies, test hypothesis and check assumptions\n",
    "- Using statistical summaries and data visualization (hostograms, boxplots, scatterplots etc.)\n",
    "\n",
    "#### <u>6. Data Transformation</u>\n",
    "- Feature engineering (creating new features from existing features)\n",
    "- Normalization or standardize (feature scaling)\n",
    "- train-test split\n",
    "- encode categorical features\n",
    "\n",
    "#### <u>7. Model selection and Training</u>\n",
    "- choose appropriate model or algorithm based on the problem (regression, classification, clustering etc.)\n",
    "- Consider multiple model and and find the one that best fits the test data (unseen data)\n",
    "- Tune the hyperparameters to optimize performance\n",
    "\n",
    "#### <u>8. Model Evaluation</u>\n",
    "- Overfit? -> RMSE (test vs training)\n",
    "- test prediction vs test residual plot (check for scedasticity)\n",
    "- Normal distribution plot for residuals (model shoud have normally distributed residuals)\n",
    "- Cross-validation for generalization\n",
    "\n",
    "#### <u>9. Model Interpretation</u>\n",
    "- Understanding the significance of features\n",
    "- Ensuring model makes sense and aligns the domain knowledge\n",
    "\n",
    "#### <u>10. Deployment and Documentation</u>\n",
    "- Deploy the model or analysis pipeline in production environment\n",
    "\n",
    "#### <u>11. Monitoring and maintenance</u>\n",
    "- Continuously analyze the model and its performance\n",
    "- Update the model as new data becomes available\n",
    "- Refine the process based on feedback and changes"
   ]
  },
  {
   "cell_type": "code",
   "execution_count": null,
   "id": "b833c693-88a0-4d39-accb-a8133abded8e",
   "metadata": {},
   "outputs": [],
   "source": []
  }
 ],
 "metadata": {
  "kernelspec": {
   "display_name": "Python 3 (ipykernel)",
   "language": "python",
   "name": "python3"
  },
  "language_info": {
   "codemirror_mode": {
    "name": "ipython",
    "version": 3
   },
   "file_extension": ".py",
   "mimetype": "text/x-python",
   "name": "python",
   "nbconvert_exporter": "python",
   "pygments_lexer": "ipython3",
   "version": "3.10.12"
  }
 },
 "nbformat": 4,
 "nbformat_minor": 5
}
